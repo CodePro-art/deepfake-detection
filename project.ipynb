{
 "cells": [
  {
   "cell_type": "markdown",
   "metadata": {},
   "source": [
    "# Deepfake Video Detection\n",
    "\n",
    "## <a id='0'>Content</a>\n",
    "\n",
    "- <a href='#1'>Introduction</a>  \n",
    "- <a href='#2'>Preliminary data exploration</a>  \n",
    "    * Load the packages  \n",
    "    * Load the data  \n",
    "    * Check files type  \n",
    "- <a href='#5'>Face detection</a>  \n",
    "- <a href='#6'>Resources</a> \n",
    "- <a href='#7'>References</a>     \n"
   ]
  },
  {
   "cell_type": "markdown",
   "metadata": {},
   "source": [
    "# <a id='2'>Introduction</a>\n",
    "\n",
    "**Deepfake**, derived from \"Deep Learning\" and \"Fake,\" refers to the technology of taking one person's likeness from an image or video  \n",
    "and replacing it with another's using Deep Artificial Neural Networks. Major companies invest heavily in combating DeepFakes to counter  \n",
    "this threat. DeepFake is rapidly invading the film industry and threatens to compromise news agencies. Large digital companies, including  \n",
    "content providers and social platforms, are at the forefront of fighting DeepFakes. GANs (Generative Adversarial Networks) that generate  \n",
    "DeepFakes are improving daily. \n",
    "\n",
    "In the **Data Exploration** section, we perform a partial Exploratory Data Analysis (EDA) on the training and testing data. After checking  \n",
    "the file types, we focus first on the **metadata** files, exploring them in detail after importing them into dataframes. We then explore  \n",
    "video files by examining a sample of fake videos followed by real videos. Additionally, we analyze a few videos with the same origin, visualizing  \n",
    "one frame from both real and fake videos and playing a few videos. \n",
    "\n",
    "Next, we perform face (and other objects from the persons in the videos) extraction using OpenCV Haar Cascade resources to identify frontal faces,  \n",
    "eyes, smiles, and profile faces from still images in the videos.\n",
    "\n",
    "In the **Resources** section, There is a short list of various resources for GAN and DeepFake, including blog  \n",
    "posts, Kaggle Kernels, and GitHub repositories."
   ]
  },
  {
   "cell_type": "markdown",
   "metadata": {},
   "source": [
    "## <a id='2'>Preliminary data exploration</a>\n",
    "\n",
    "### Datasets:\n",
    "There are 4 groups of datasets associated with this competition.\n",
    "\n",
    "1. **Training Set: This dataset containing labels for the target.**  \n",
    "2. **Public Validation Set:** We trained our data using a small set of 400 videos/ids contained within this Public Validation Set.  \n",
    "This is available on the Kaggle Data page as test_videos.zip  \n",
    "3. **Public Test Set:**   \n",
    "Our code is running this on Public Test Set. When the re-run is complete, the score will be displayed.  \n",
    "4. **Private Test Set:**\n",
    "This dataset is privately held outside of Kaggle’s platform, and is used to compute the private leaderboard. It contains videos  \n",
    "with a similar format/nature as the Training & Public Validation/Test Sets, but are real, organic videos with and without deepfakes.  \n",
    "\n",
    "### Workflow:\n",
    "add more about the workflow"
   ]
  },
  {
   "cell_type": "markdown",
   "metadata": {},
   "source": [
    "### **Evaluation**\n",
    "$LogLoss = -\\frac{1}{n} \\sum_{1=1}^{n} \\left[ y_{i} \\log \\left( \\hat{y}_{i} \\right) + \\left(1 - y_{i}\\right) \\log \\left(1 - \\hat{y}_{i} \\right) \\right] \\ $\n",
    "\n",
    "where\n",
    "\n",
    "* $n$ is the number of videos being predicted\n",
    "* $\\hat{y}_{i}$ is the predicted probability of the video being FAKE\n",
    "* $y_{i}$ is 1 if the video is FAKE, 0 if REAL\n",
    "* $\\log( )$ is the natural (base e) logarithm = $\\ln(  )$\n",
    "\n",
    "A smaller log loss is better. The use of the logarithm provides extreme punishments for being both confident and wrong.  \n",
    "In the worst possible case, a prediction that something is true when it is actually false will add infinite to your error score.  \n",
    "In order to prevent this, predictions are bounded away from the extremes by a small value."
   ]
  },
  {
   "cell_type": "markdown",
   "metadata": {},
   "source": [
    "### Load packages"
   ]
  },
  {
   "cell_type": "code",
   "execution_count": 31,
   "metadata": {},
   "outputs": [],
   "source": [
    "import numpy as np \n",
    "import pandas as pd \n",
    "import os\n",
    "import sys\n",
    "import matplotlib \n",
    "import seaborn as sns  \n",
    "import matplotlib.pyplot as plt \n",
    "from typing import Optional\n",
    "import torch \n",
    "from torch.utils.data import DataLoader \n",
    "from tqdm.auto import tqdm \n",
    "import cv2 as cv \n",
    "import platform\n",
    "import subprocess\n",
    "import pyopencl as cl \n",
    "import tensorflow as tf \n",
    "import getpass\n",
    "import json\n",
    "from rocm.configure import * \n",
    "from utils.video_dataset import *\n",
    "from IPython.display import HTML \n",
    "from base64 import b64encode\n",
    "from torchsummary import summary "
   ]
  },
  {
   "cell_type": "code",
   "execution_count": 3,
   "metadata": {},
   "outputs": [
    {
     "name": "stdout",
     "output_type": "stream",
     "text": [
      "TensorFlow version: 2.10.1\n",
      "3.9.19 | packaged by conda-forge | (main, Mar 20 2024, 12:38:46) [MSC v.1929 64 bit (AMD64)]\n",
      "Kernel mode driver status: \n"
     ]
    }
   ],
   "source": [
    "print(\"TensorFlow version:\", tf.__version__)\n",
    "print(sys.version)\n",
    "print(f'Kernel mode driver status: {subprocess.run(\"dkms status\", shell=True, capture_output=True, text=True).stdout}' )"
   ]
  },
  {
   "cell_type": "markdown",
   "metadata": {},
   "source": [
    "### Constants"
   ]
  },
  {
   "cell_type": "code",
   "execution_count": 4,
   "metadata": {},
   "outputs": [],
   "source": [
    "# DATASET\n",
    "DATA_CONFIG = './configs/data_path.json'\n",
    "\n",
    "with open(DATA_CONFIG, 'r') as f:\n",
    "    data = json.load(f)\n",
    "\n",
    "ROOT_FOLDER = data['dataset'][getpass.getuser()][\"root\"]\n",
    "DATA_FOLDER = data['dataset'][getpass.getuser()][\"train_set\"]\n",
    "DATA_SAMPLE_FOLDER = data['dataset'][getpass.getuser()][\"data_sample\"]\n",
    "COMPRESSED_DATA_FOLDER = data['dataset'][getpass.getuser()][\"compressed\"]\n",
    "TRAIN_SAMPLE_FOLDER = data['dataset'][getpass.getuser()][\"train_sample\"]\n",
    "TEST_SAMPLE_FOLDER = data['dataset'][getpass.getuser()][\"test_videos\"]\n",
    "\n",
    "BATCH_SIZE = data['batch_size']\n",
    "DATA_DIRECTORIES = os.listdir(DATA_FOLDER)\n",
    "\n",
    "# LIBS\n",
    "FACE_DETECTION_FOLDER = 'input/haar-cascades-for-face-detection'\n",
    "RUN_OFFLINE = True"
   ]
  },
  {
   "cell_type": "markdown",
   "metadata": {},
   "source": [
    "### Utility Functions"
   ]
  },
  {
   "cell_type": "code",
   "execution_count": 5,
   "metadata": {},
   "outputs": [],
   "source": [
    "# UTILITY FUNCTIONS\n",
    "\n",
    "# Function to display video\n",
    "def play_video(video_file, subset=TRAIN_SAMPLE_FOLDER):\n",
    "    '''\n",
    "    Display video\n",
    "    param: video_file - the name of the video file to display\n",
    "    param: subset - the folder where the video file is located (can be TRAIN_SAMPLE_FOLDER or TEST_Folder)\n",
    "    '''\n",
    "    video_url = open(os.path.join(DATA_SAMPLE_FOLDER, subset,video_file),'rb').read()\n",
    "    data_url = f\"data:video/mp4;base64,{b64encode(video_url).decode()}\"\n",
    "    return HTML(f\"\"\"<video width=500 controls><source src=\"{data_url}\" type=\"video/mp4\"></video>\"\"\")\n",
    "\n",
    "# Function to display image from a video\n",
    "def display_image_from_video(video_path):\n",
    "    '''\n",
    "    input: video_path - path for video\n",
    "    process:\n",
    "    1. perform a video capture from the video\n",
    "    2. read the image\n",
    "    3. display the image\n",
    "    '''\n",
    "    capture_image = cv.VideoCapture(video_path) \n",
    "    ret, frame = capture_image.read()\n",
    "    fig = plt.figure(figsize=(10,10))\n",
    "    ax = fig.add_subplot(111)\n",
    "    frame = cv.cvtColor(frame, cv.COLOR_BGR2RGB)\n",
    "    ax.imshow(frame)\n",
    "# Function to get the OpenCL platform information\n",
    "def get_platform_info():\n",
    "    platforms = cl.get_platforms()\n",
    "    for platform in platforms:\n",
    "        devices = platform.get_devices()\n",
    "        print(f\"Platform Name: {platform.get_info(cl.platform_info.NAME)}\")\n",
    "        print(f\"Platform Vendor: {platform.get_info(cl.platform_info.VENDOR)}\")\n",
    "        print(f\"Platform Version: {platform.get_info(cl.platform_info.VERSION)}\")\n",
    "        print(f\"Platform Profile: {platform.get_info(cl.platform_info.PROFILE)}\")\n",
    "        for device in devices:\n",
    "            print(f\"Device: {device.name}\")\n",
    "\n",
    "    amd_platform = next(\n",
    "        (platform for platform in platforms if 'AMD' in platform.name), None\n",
    "    )\n",
    "\n",
    "# Function to check unique values in a dataset\n",
    "def unique_values(data):\n",
    "    total = data.count()\n",
    "    tt = pd.DataFrame(total)\n",
    "    tt.columns = ['Total']\n",
    "    uniques = []\n",
    "    for col in data.columns:\n",
    "        unique = data[col].nunique()\n",
    "        uniques.append(unique)\n",
    "    tt['Uniques'] = uniques\n",
    "    return(np.transpose(tt))\n",
    "\n",
    "# Function to check missing data in a dataset\n",
    "def missing_data(data):\n",
    "    total = data.isnull().sum()\n",
    "    percent = (data.isnull().sum()/data.isnull().count()*100)\n",
    "    tt = pd.concat([total, percent], axis=1, keys=['Total', 'Percent'])\n",
    "    types = []\n",
    "    for col in data.columns:\n",
    "        dtype = str(data[col].dtype)\n",
    "        types.append(dtype)\n",
    "    tt['Types'] = types\n",
    "    return(np.transpose(tt))\n",
    "\n",
    "# Function to check the most frequent values in a dataset\n",
    "def most_frequent_values(data):\n",
    "    total = data.count()\n",
    "    tt = pd.DataFrame(total)\n",
    "    tt.columns = ['Total']\n",
    "    items = []\n",
    "    vals = []\n",
    "    for col in data.columns:\n",
    "        itm = data[col].value_counts().index[0]\n",
    "        val = data[col].value_counts().values[0]\n",
    "        items.append(itm)\n",
    "        vals.append(val)\n",
    "    tt['Most frequent item'] = items\n",
    "    tt['Frequency'] = vals\n",
    "    tt['Percent from total'] = np.round(vals / total * 100, 3)\n",
    "    return(np.transpose(tt))\n",
    "\n",
    "# Function to plot the count of classes in a dataset\n",
    "def plot_count(feature, title, df, size=1):\n",
    "    '''\n",
    "    Plot count of classes / feature\n",
    "    param: feature - the feature to analyze\n",
    "    param: title - title to add to the graph\n",
    "    param: df - dataframe from which we plot feature's classes distribution \n",
    "    param: size - default 1.\n",
    "    '''\n",
    "    f, ax = plt.subplots(1,1, figsize=(4*size,4))\n",
    "    total = float(len(df))\n",
    "    g = sns.countplot(x=feature, data=df, order=df[feature].value_counts().index[:20], palette='Set3', hue=feature, legend=False)\n",
    "    g.set_title(f\"Histogram of {title}\")\n",
    "    if(size > 2):\n",
    "        plt.xticks(rotation=90, size=8)\n",
    "    for p in ax.patches:\n",
    "        height = p.get_height()\n",
    "        ax.text(p.get_x()+p.get_width()/2.,\n",
    "                height + 3,\n",
    "                '{:1.2f}%'.format(100*height/total),\n",
    "                ha=\"center\")\n",
    "    plt.show()\n",
    "\n",
    "# Function read video metadata from json files\n",
    "def read_meta_from_json(data_directories, data_folder, compressed_data_folder):\n",
    "    \n",
    "    meta_df = pd.DataFrame()\n",
    "\n",
    "    for index, part_folder in enumerate(data_directories):\n",
    "        part_path = os.path.join(data_folder, part_folder)\n",
    "        json_file = next(file for file in os.listdir(part_path) if file.endswith('json'))\n",
    "        json_file_path = os.path.join(part_path, json_file)\n",
    "        \n",
    "        part_df = pd.read_json(json_file_path).T\n",
    "        part_df['part'] = index\n",
    "        part_df['path'] = part_path\n",
    "        part_df['path-compressed'] =  os.path.join(compressed_data_folder, os.path.basename(part_path))\n",
    "        part_df['filename'] = part_df.index\n",
    "        \n",
    "        meta_df = pd.concat([meta_df, part_df])\n",
    "\n",
    "    # Display 5 random rows from meta_df\n",
    "    display(meta_df.sample(n=5))\n",
    "    return meta_df\n",
    "\n",
    "# Function to display image from a video\n",
    "def display_image_from_video_list(video_path_list, video_folder=TRAIN_SAMPLE_FOLDER):\n",
    "    '''\n",
    "    input: video_path_list - path for video\n",
    "    process:\n",
    "    0. for each video in the video path list\n",
    "        1. perform a video capture from the video\n",
    "        2. read the image\n",
    "        3. display the image\n",
    "    '''\n",
    "    plt.figure()\n",
    "    fig, ax = plt.subplots(2,3,figsize=(16,8))\n",
    "    # we only show images extracted from the first 6 videos\n",
    "    for i, video_file in enumerate(video_path_list[:6]):\n",
    "        video_path = os.path.join(DATA_SAMPLE_FOLDER, video_folder,video_file)\n",
    "        capture_image = cv.VideoCapture(video_path) \n",
    "        ret, frame = capture_image.read()\n",
    "        frame = cv.cvtColor(frame, cv.COLOR_BGR2RGB)\n",
    "        ax[i//3, i%3].imshow(frame)\n",
    "        ax[i//3, i%3].set_title(f\"Video: {video_file}\")\n",
    "        ax[i//3, i%3].axis('on')\n",
    "        "
   ]
  },
  {
   "cell_type": "markdown",
   "metadata": {},
   "source": [
    "### Add configurations for AMD GPU - Ubuntu only\n",
    "1. ADD rocm binary paths to the PATH environment variable.\n",
    "2. ADD open CL to LD_LIBRARY_PATH\n",
    "3. ADD user to \"render\" and \"video\" groups\n",
    "4. INSTALL clinfo\n",
    "5. INSTALL ocl-icd\n",
    "6. USE rocm-smi to check GPU's performance"
   ]
  },
  {
   "cell_type": "code",
   "execution_count": 6,
   "metadata": {},
   "outputs": [],
   "source": [
    "if platform.system() == 'Linux' and 'Ubuntu' in platform.version():\n",
    "    add_rocm_to_path()\n",
    "    add_ld_library_path()\n",
    "    check_user_in_groups()\n",
    "    install_clinfo()\n",
    "    install_ocl_icd()\n",
    "    rocm_smi()\n",
    "    clinfo()\n",
    "    rocminfo()"
   ]
  },
  {
   "cell_type": "markdown",
   "metadata": {},
   "source": [
    "### Find physical devices (CPU and GPU)\n",
    "\n",
    "check that the cpu and gpu are recognized by tensorflow"
   ]
  },
  {
   "cell_type": "code",
   "execution_count": 7,
   "metadata": {},
   "outputs": [
    {
     "name": "stdout",
     "output_type": "stream",
     "text": [
      "Num GPUs Available:  1\n",
      "Num CPUs Available:  1\n"
     ]
    }
   ],
   "source": [
    "print(\"Num GPUs Available: \", len(tf.config.list_physical_devices('GPU')))\n",
    "print(\"Num CPUs Available: \", len(tf.config.list_physical_devices('CPU')))"
   ]
  },
  {
   "cell_type": "markdown",
   "metadata": {},
   "source": [
    "### Limit GPU resource to enable resources for casual work\n",
    "\n",
    "TensorFlow allocates all of the GPU’s memory by default, leaving nothing for the desktop environment and any  \n",
    "other apps to use. In order to solve this issue, we save some resources aside for casual workload and maintenance resources."
   ]
  },
  {
   "cell_type": "code",
   "execution_count": 8,
   "metadata": {},
   "outputs": [
    {
     "name": "stdout",
     "output_type": "stream",
     "text": [
      "Platform Name: AMD Accelerated Parallel Processing\n",
      "Platform Vendor: Advanced Micro Devices, Inc.\n",
      "Platform Version: OpenCL 2.1 AMD-APP (3592.0)\n",
      "Platform Profile: FULL_PROFILE\n",
      "Device: gfx1100\n"
     ]
    }
   ],
   "source": [
    "if gpus := tf.config.experimental.list_physical_devices('GPU'):\n",
    "  try:\n",
    "    get_platform_info()\n",
    "    for gpu in gpus:\n",
    "      tf.config.experimental.set_memory_growth(gpu, True)\n",
    "  except RuntimeError as e:\n",
    "    print(e)\n"
   ]
  },
  {
   "cell_type": "markdown",
   "metadata": {},
   "source": [
    "### Load data"
   ]
  },
  {
   "cell_type": "code",
   "execution_count": 9,
   "metadata": {},
   "outputs": [
    {
     "name": "stdout",
     "output_type": "stream",
     "text": [
      "F:\\datasets\\deepfake\\train_set\n",
      "Train samples: 401\n",
      "Test samples: 400\n"
     ]
    }
   ],
   "source": [
    "print(DATA_FOLDER)\n",
    "train_samples = os.listdir(os.path.join(DATA_SAMPLE_FOLDER, TRAIN_SAMPLE_FOLDER))\n",
    "test_samples = os.listdir(os.path.join(DATA_SAMPLE_FOLDER, TEST_SAMPLE_FOLDER))\n",
    "\n",
    "print(f\"Train samples: {len(train_samples)}\")\n",
    "print(f\"Test samples: {len(test_samples)}\")"
   ]
  },
  {
   "cell_type": "markdown",
   "metadata": {},
   "source": [
    "We also added a face detection resource."
   ]
  },
  {
   "cell_type": "code",
   "execution_count": 10,
   "metadata": {},
   "outputs": [
    {
     "name": "stdout",
     "output_type": "stream",
     "text": [
      "Face detection resources: ['haarcascade_eye.xml', 'haarcascade_eye_tree_eyeglasses.xml', 'haarcascade_frontalface_alt.xml', 'haarcascade_frontalface_alt2.xml', 'haarcascade_frontalface_alt_tree.xml', 'haarcascade_frontalface_default.xml', 'haarcascade_fullbody.xml', 'haarcascade_profileface.xml', 'haarcascade_smile.xml', 'haarcascade_upperbody.xml']\n"
     ]
    }
   ],
   "source": [
    "print(f\"Face detection resources: {os.listdir(FACE_DETECTION_FOLDER)}\")"
   ]
  },
  {
   "cell_type": "markdown",
   "metadata": {},
   "source": [
    "## <a id='5'>Face detection</a>  \n",
    "\n",
    "From [5] ([Face Detection using OpenCV](https://www.kaggle.com/serkanpeldek/face-detection-with-opencv)) by [@serkanpeldek](https://www.kaggle.com/serkanpeldek) we got and slightly modified the functions to extract face, profile face, eyes and smile.  \n",
    "\n",
    "The class ObjectDetector initialize the cascade classifier (using the imported resource). The function **detect** uses a method of the CascadeClassifier to detect objects into images - in this case the face, eye, smile or profile face."
   ]
  },
  {
   "cell_type": "code",
   "execution_count": 11,
   "metadata": {},
   "outputs": [],
   "source": [
    "class ObjectDetector():\n",
    "    '''\n",
    "    Class for Object Detection\n",
    "    '''\n",
    "    \n",
    "    def __init__(self,object_cascade_path):\n",
    "        '''\n",
    "        param: object_cascade_path - path for the *.xml defining the parameters for {face, eye, smile, profile}\n",
    "        detection algorithm\n",
    "        source of the haarcascade resource is: https://github.com/opencv/opencv/tree/master/data/haarcascades\n",
    "        '''\n",
    "\n",
    "        self.objectCascade=cv.CascadeClassifier(object_cascade_path)\n",
    "\n",
    "\n",
    "    def detect(self, image, scale_factor=1.3, min_neighbors=5, min_size=(20,20)):\n",
    "        '''\n",
    "        Function return rectangle coordinates of object for given image\n",
    "        param: image - image to process\n",
    "        param: scale_factor - scale factor used for object detection\n",
    "        param: min_neighbors - minimum number of parameters considered during object detection\n",
    "        param: min_size - minimum size of bounding box for object detected\n",
    "        '''\n",
    "        return self.objectCascade.detectMultiScale(\n",
    "            image,\n",
    "            scaleFactor=scale_factor,\n",
    "            minNeighbors=min_neighbors,\n",
    "            minSize=min_size,\n",
    "        )"
   ]
  },
  {
   "cell_type": "markdown",
   "metadata": {},
   "source": [
    "We load the resources for frontal face, eye, smile and profile face detection.  \n",
    "\n",
    "Then we initialize the `ObjectDetector` objects defined above with the respective resources, to use CascadeClassifier for each specific task."
   ]
  },
  {
   "cell_type": "code",
   "execution_count": 12,
   "metadata": {},
   "outputs": [],
   "source": [
    "# Frontal face, profile, eye and smile  haar cascade loaded\n",
    "frontal_path = f\"{FACE_DETECTION_FOLDER}/haarcascade_frontalface_default.xml\"\n",
    "eye_path = f\"{FACE_DETECTION_FOLDER}/haarcascade_eye.xml\"\n",
    "profile_path = f\"{FACE_DETECTION_FOLDER}/haarcascade_profileface.xml\"\n",
    "smile_path = f\"{FACE_DETECTION_FOLDER}/haarcascade_smile.xml\"\n",
    "paths_list = [frontal_path, eye_path, profile_path, smile_path]\n",
    "\n",
    "# Detector object created\n",
    "front_d, eye_d, prof_d, smile_d = [ObjectDetector(path) for path in paths_list]\n"
   ]
  },
  {
   "cell_type": "markdown",
   "metadata": {},
   "source": [
    "We also define a function for detection and display of all these specific objects.  \n",
    "\n",
    "The function call the **detect** method of the **ObjectDetector** object. For each object we are using a different shape and color, as following:\n",
    "* Frontal face: green rectangle;  \n",
    "* Eye: red circle;  \n",
    "* Smile: red rectangle;  \n",
    "* Profile face: blue rectangle.  \n",
    "\n",
    "Note: due to a huge amount of false positive, we deactivate for now the smile detector."
   ]
  },
  {
   "cell_type": "code",
   "execution_count": 13,
   "metadata": {},
   "outputs": [],
   "source": [
    "def detect_objects(image, scale_factor, min_neighbors, min_size):\n",
    "    '''\n",
    "    Objects detection function\n",
    "    Identify frontal face, eyes, smile and profile face and display the detected objects over the image\n",
    "    param: image - the image extracted from the video\n",
    "    param: scale_factor - scale factor parameter for `detect` function of ObjectDetector object\n",
    "    param: min_neighbors - min neighbors parameter for `detect` function of ObjectDetector object\n",
    "    param: min_size - minimum size parameter for f`detect` function of ObjectDetector object\n",
    "    '''\n",
    "    \n",
    "    image_gray=cv.cvtColor(image, cv.COLOR_BGR2GRAY)\n",
    "\n",
    "\n",
    "    eyes=eye_d.detect(image_gray,\n",
    "        scale_factor=scale_factor,\n",
    "        min_neighbors=min_neighbors,\n",
    "        min_size=(int(min_size[0]/2), int(min_size[1]/2)))\n",
    "\n",
    "    for x, y, w, h in eyes:\n",
    "        #detected eyes shown in color image\n",
    "        cv.circle(image,(int(x+w/2),int(y+h/2)),(int((w + h)/4)),(0, 0,255),3)\n",
    " \n",
    "    # deactivated due to many false positive\n",
    "    #smiles=smile_d.detect(image_gray,\n",
    "    #               scale_factor=scale_factor,\n",
    "    #               min_neighbors=min_neighbors,\n",
    "    #               min_size=(int(min_size[0]/2), int(min_size[1]/2)))\n",
    "\n",
    "    #for x, y, w, h in smiles:\n",
    "    #    #detected smiles shown in color image\n",
    "    #    cv.rectangle(image,(x,y),(x+w, y+h),(0, 0,255),3)\n",
    "\n",
    "\n",
    "    profiles=prof_d.detect(image_gray,\n",
    "        scale_factor=scale_factor,\n",
    "        min_neighbors=min_neighbors,\n",
    "        min_size=min_size)\n",
    "\n",
    "    for x, y, w, h in profiles:\n",
    "        #detected profiles shown in color image\n",
    "        cv.rectangle(image,(x,y),(x+w, y+h),(255, 0,0),3)\n",
    "\n",
    "    faces=front_d.detect(image_gray,\n",
    "        scale_factor=scale_factor,\n",
    "        min_neighbors=min_neighbors,\n",
    "        min_size=min_size)\n",
    "\n",
    "    for x, y, w, h in faces:\n",
    "        #detected faces shown in color image\n",
    "        cv.rectangle(image,(x,y),(x+w, y+h),(0, 255,0),3)\n",
    "\n",
    "    # image\n",
    "    fig = plt.figure(figsize=(10,10))\n",
    "    ax = fig.add_subplot(111)\n",
    "    image = cv.cvtColor(image, cv.COLOR_BGR2RGB)\n",
    "    ax.imshow(image)"
   ]
  },
  {
   "cell_type": "markdown",
   "metadata": {},
   "source": [
    "The following function extracts an image from a video and then call the function that extracts the face rectangle from the image and display the rectangle above the image."
   ]
  },
  {
   "cell_type": "code",
   "execution_count": 14,
   "metadata": {},
   "outputs": [],
   "source": [
    "def extract_image_objects(video_file, video_set_folder=TRAIN_SAMPLE_FOLDER):\n",
    "    '''\n",
    "    Extract one image from the video and perform object detection (face, eyes, smile, profile).\n",
    "    '''\n",
    "    video_path = os.path.join(video_set_folder, video_file)\n",
    "\n",
    "    if not os.path.exists(video_path):\n",
    "        print(f\"❌ File not found: {video_path}\")\n",
    "        return\n",
    "\n",
    "    capture_image = cv.VideoCapture(video_path)\n",
    "    ret, frame = capture_image.read()\n",
    "\n",
    "    if not ret or frame is None:\n",
    "        print(f\"⚠️ Failed to read frame from video: {video_path}\")\n",
    "        capture_image.release()\n",
    "        return\n",
    "\n",
    "    # Optional: convert to RGB if needed later\n",
    "    # frame = cv.cvtColor(frame, cv.COLOR_BGR2RGB)\n",
    "\n",
    "    detect_objects(image=frame, scale_factor=1.3, min_neighbors=5, min_size=(50, 50))\n",
    "    capture_image.release()"
   ]
  },
  {
   "cell_type": "markdown",
   "metadata": {},
   "source": [
    "### Read meta data into Pandas' DataFrame"
   ]
  },
  {
   "cell_type": "code",
   "execution_count": 15,
   "metadata": {},
   "outputs": [
    {
     "name": "stdout",
     "output_type": "stream",
     "text": [
      "📄 Loading existing DataFrame from file...\n"
     ]
    }
   ],
   "source": [
    "SAVE_PATH = os.path.join(ROOT_FOLDER, 'meta_df.pkl')\n",
    "\n",
    "if os.path.exists(SAVE_PATH):\n",
    "    print(\"📄 Loading existing DataFrame from file...\")\n",
    "    meta_df = pd.read_pickle(SAVE_PATH)\n",
    "else:\n",
    "    print(\"🚀 Generating DataFrame from source...\")\n",
    "    meta_df = read_meta_from_json(DATA_DIRECTORIES, DATA_FOLDER, COMPRESSED_DATA_FOLDER)\n",
    "    meta_df.to_pickle(SAVE_PATH)\n",
    "    print(f\"💾 DataFrame saved to: {SAVE_PATH}\")"
   ]
  },
  {
   "cell_type": "markdown",
   "metadata": {},
   "source": [
    "### Total number of videos in the dataset"
   ]
  },
  {
   "cell_type": "code",
   "execution_count": 16,
   "metadata": {},
   "outputs": [
    {
     "name": "stdout",
     "output_type": "stream",
     "text": [
      "Data samples: 119154\n"
     ]
    }
   ],
   "source": [
    "print(f\"Data samples: {len(meta_df)}\")"
   ]
  },
  {
   "cell_type": "markdown",
   "metadata": {},
   "source": [
    "### Full data set exploration\n",
    "\n",
    "1. Histogram"
   ]
  },
  {
   "cell_type": "code",
   "execution_count": 17,
   "metadata": {},
   "outputs": [
    {
     "data": {
      "image/png": "[encoded data removed]",
      "text/plain": [
       "<Figure size 400x400 with 1 Axes>"
      ]
     },
     "metadata": {},
     "output_type": "display_data"
    }
   ],
   "source": [
    "plot_count('label', 'classes / labels', meta_df)"
   ]
  },
  {
   "cell_type": "markdown",
   "metadata": {},
   "source": [
    "### Use DataLoader to load the videos \n",
    "\n",
    "1. **shuffle:** ON\n",
    "2. **batch size:** 3\n",
    "3. **source:** DATA_FOLDER\n",
    "4. **compressed data:** COMPRESSED_DATA_FOLDER"
   ]
  },
  {
   "cell_type": "code",
   "execution_count": 18,
   "metadata": {},
   "outputs": [],
   "source": [
    "loader = DataLoader(VideoDataset(DATA_FOLDER, 'train'), batch_size=3, shuffle=True)"
   ]
  },
  {
   "cell_type": "markdown",
   "metadata": {},
   "source": [
    "### Compress the videos into smaller tensor objects for faster processing"
   ]
  },
  {
   "cell_type": "code",
   "execution_count": 32,
   "metadata": {},
   "outputs": [
    {
     "name": "stdout",
     "output_type": "stream",
     "text": [
      "Using 24 processes.\n",
      "Processing 119154 videos. \n",
      "24 chunks with 4964 videos.\n"
     ]
    }
   ],
   "source": [
    "import multiprocessing\n",
    "from multiprocessing import Pool, Manager\n",
    "from preprocessing.compress_videos import process_chunk\n",
    "\n",
    "cores = multiprocessing.cpu_count()\n",
    "print(f\"Using {cores} processes.\")\n",
    "print(f\"Processing {meta_df.shape[0]} videos. \\n{cores} chunks with {meta_df.shape[0] // cores} videos.\")"
   ]
  },
  {
   "cell_type": "code",
   "execution_count": null,
   "metadata": {},
   "outputs": [
    {
     "name": "stdout",
     "output_type": "stream",
     "text": [
      "['DmlExecutionProvider', 'CPUExecutionProvider']\n"
     ]
    }
   ],
   "source": [
    "import onnxruntime as ort \n",
    "print(ort.get_available_providers())  # Should include 'DirectML'"
   ]
  }
 ],
 "metadata": {
  "kernelspec": {
   "display_name": "deepfake",
   "language": "python",
   "name": "python3"
  },
  "language_info": {
   "codemirror_mode": {
    "name": "ipython",
    "version": 3
   },
   "file_extension": ".py",
   "mimetype": "text/x-python",
   "name": "python",
   "nbconvert_exporter": "python",
   "pygments_lexer": "ipython3",
   "version": "3.9.19"
  }
 },
 "nbformat": 4,
 "nbformat_minor": 2
}
